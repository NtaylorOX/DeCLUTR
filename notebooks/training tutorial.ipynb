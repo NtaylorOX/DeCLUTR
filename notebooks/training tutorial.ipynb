{
  "cells": [
    {
      "cell_type": "markdown",
      "metadata": {
        "id": "I8jt6ML03DS5"
      },
      "source": [
        "# Training your own model\n",
        "\n",
        "This notebook will walk you through training your own model using [DeCLUTR](https://github.com/JohnGiorgi/DeCLUTR)."
      ]
    },
    {
      "cell_type": "markdown",
      "metadata": {
        "id": "SU3Iod2-g0-o"
      },
      "source": [
        "## 🔧 Install the prerequisites"
      ]
    },
    {
      "cell_type": "code",
      "execution_count": 1,
      "metadata": {
        "id": "sr4r5pN40Kli"
      },
      "outputs": [],
      "source": [
        "# !pip install git+https://github.com/JohnGiorgi/DeCLUTR.git\n",
        "\n",
        "# go to main dir i.e. DeCLUTR on local and run \"pip install --editable .\"\""
      ]
    },
    {
      "cell_type": "markdown",
      "metadata": {
        "id": "Zog7ApwuUD7_"
      },
      "source": [
        "## 📖 Preparing a dataset"
      ]
    },
    {
      "cell_type": "markdown",
      "metadata": {
        "id": "uwnLpUmN4Art"
      },
      "source": [
        "\n",
        "A dataset is simply a file containing one item of text (a document, a scientific paper, etc.) per line. For demonstration purposes, we have provided a script that will download the [WikiText-103](https://www.salesforce.com/products/einstein/ai-research/the-wikitext-dependency-language-modeling-dataset/) dataset and format it for training with our method.\n",
        "\n",
        "The only \"gotcha\" is that each piece of text needs to be long enough so that we can sample spans from it. In general, you should collect documents of a minimum length according to the following:\n",
        "\n",
        "```python\n",
        "min_length = num_anchors * max_span_len * 2\n",
        "```\n",
        "\n",
        "In our paper, we set `num_anchors=2` and `max_span_len=512`, so we require documents of `min_length=2048`. We simply need to provide this value as an argument when running the script:"
      ]
    },
    {
      "cell_type": "code",
      "execution_count": 4,
      "metadata": {
        "id": "q0fwnwq23aAZ"
      },
      "outputs": [
        {
          "name": "stdout",
          "output_type": "stream",
          "text": [
            "\u001b[1m⬇ Downloaded WikiText-103\u001b[0m\n",
            "\u001b[?25l\u001b[1mPreprocessing text\u001b[0m  [####################################]  100%\u001b[?25h\n",
            "\u001b[?25l\u001b[1mPreprocessing text\u001b[0m  [####################################]  100%\u001b[?25h\n",
            "\u001b[?25l\u001b[1mPreprocessing text\u001b[0m  [####################################]  100%\u001b[?25h\n",
            "\u001b[?25lWriting to disk  [####################################]  100%\u001b[?25h\n",
            "\u001b[1m💾 500 preprocessed documents saved to: /mnt/sdg/niallt/wiki_text/wikitext-103/train.txt\u001b[0m\n"
          ]
        }
      ],
      "source": [
        "import os\n",
        "\n",
        "train_data_path = \"/mnt/sdg/niallt/wiki_text/wikitext-103/train.txt\"\n",
        "\n",
        "min_length = 2048\n",
        "# run this first timeP\n",
        "\n",
        "\n",
        "!python ../scripts/preprocess_wikitext_103.py $train_data_path --min-length $min_length --max-instances 500"
      ]
    },
    {
      "cell_type": "markdown",
      "metadata": {
        "id": "yUEFeupP6qy-"
      },
      "source": [
        "Lets confirm that our dataset looks as expected."
      ]
    },
    {
      "cell_type": "code",
      "execution_count": 4,
      "metadata": {
        "id": "K7ffGXCn7Cpq"
      },
      "outputs": [
        {
          "name": "stdout",
          "output_type": "stream",
          "text": [
            "17824 /mnt/sdg/niallt/wiki_text/wikitext-103/train.txt\n"
          ]
        }
      ],
      "source": [
        "!wc -l $train_data_path  # This should be approximately 17.8K lines"
      ]
    },
    {
      "cell_type": "code",
      "execution_count": 4,
      "metadata": {
        "id": "10DprWZc9iV6"
      },
      "outputs": [],
      "source": [
        "# !head -n 1 $train_data_path  # This should be a single Wikipedia entry"
      ]
    },
    {
      "cell_type": "markdown",
      "metadata": {},
      "source": [
        "### Look at sampling technique\n",
        "\n",
        "This will help get an idea of what "
      ]
    },
    {
      "cell_type": "code",
      "execution_count": 2,
      "metadata": {},
      "outputs": [
        {
          "name": "stderr",
          "output_type": "stream",
          "text": [
            "/home/niallt/venvs/39_declutr/lib/python3.9/site-packages/tqdm/auto.py:22: TqdmWarning: IProgress not found. Please update jupyter and ipywidgets. See https://ipywidgets.readthedocs.io/en/stable/user_install.html\n",
            "  from .autonotebook import tqdm as notebook_tqdm\n"
          ]
        }
      ],
      "source": [
        "from declutr.common.contrastive_utils import sample_anchor_positive_pairs\n",
        "from declutr.losses import NTXentLoss\n",
        "import torch\n",
        "from transformers import AutoTokenizer"
      ]
    },
    {
      "cell_type": "code",
      "execution_count": 4,
      "metadata": {},
      "outputs": [],
      "source": [
        "text = \"this is just an example sentence to test out some sampling and loss calculation from DeCLUTR. We want to see exactly how it works in order to implement it for our own use case\"\n",
        "len_text = len(text.split())"
      ]
    },
    {
      "cell_type": "code",
      "execution_count": 16,
      "metadata": {},
      "outputs": [],
      "source": [
        "# just go with one anchor for now\n",
        "\n",
        "num_anchors = 1\n",
        "max_span_len = int((len_text/2)/num_anchors) \n",
        "min_span_len = 5\n",
        "num_positives = 5\n",
        "sampling_strat = \"adjacent\""
      ]
    },
    {
      "cell_type": "code",
      "execution_count": 18,
      "metadata": {},
      "outputs": [],
      "source": [
        "anchor_spans, positive_spans = sample_anchor_positive_pairs(\n",
        "    text = text,\n",
        "    num_anchors = num_anchors,\n",
        "    num_positives = num_positives,\n",
        "    max_span_len = max_span_len,\n",
        "    min_span_len = min_span_len,\n",
        "    sampling_strategy = sampling_strat\n",
        ")"
      ]
    },
    {
      "cell_type": "code",
      "execution_count": 19,
      "metadata": {},
      "outputs": [
        {
          "data": {
            "text/plain": [
              "['to see exactly how it works in order to implement it for our own use']"
            ]
          },
          "execution_count": 19,
          "metadata": {},
          "output_type": "execute_result"
        }
      ],
      "source": [
        "anchor_spans"
      ]
    },
    {
      "cell_type": "code",
      "execution_count": 20,
      "metadata": {},
      "outputs": [
        {
          "data": {
            "text/plain": [
              "['loss calculation from DeCLUTR. We want',\n",
              " 'and loss calculation from DeCLUTR. We want',\n",
              " 'sampling and loss calculation from DeCLUTR. We want',\n",
              " 'sampling and loss calculation from DeCLUTR. We want',\n",
              " 'some sampling and loss calculation from DeCLUTR. We want']"
            ]
          },
          "execution_count": 20,
          "metadata": {},
          "output_type": "execute_result"
        }
      ],
      "source": [
        "positive_spans"
      ]
    },
    {
      "cell_type": "code",
      "execution_count": null,
      "metadata": {},
      "outputs": [],
      "source": []
    },
    {
      "cell_type": "code",
      "execution_count": null,
      "metadata": {},
      "outputs": [],
      "source": []
    },
    {
      "cell_type": "markdown",
      "metadata": {
        "id": "VKYdambZ59nM"
      },
      "source": [
        "## 🏃 Training the model\n",
        "\n",
        "Once you have collected the dataset, you can easily initiate a training session with the `allennlp train` command. An experiment is configured using a [Jsonnet](https://jsonnet.org/) config file. Lets take a look at the config for the DeCLUTR-small model presented in [our paper](https://arxiv.org/abs/2006.03659):"
      ]
    },
    {
      "cell_type": "code",
      "execution_count": 22,
      "metadata": {},
      "outputs": [],
      "source": [
        "# with open(\"../training_config/declutr_small.jsonnet\", \"r\") as f:\n",
        "#     print(f.read())"
      ]
    },
    {
      "cell_type": "markdown",
      "metadata": {
        "id": "-f1HqWSscWOx"
      },
      "source": [
        "\n",
        "The only thing to configure is the path to the training set (`train_data_path`), which can be passed to `allennlp train` via the `--overrides` argument (but you can also provide it in your config file directly, if you prefer):"
      ]
    },
    {
      "cell_type": "code",
      "execution_count": 2,
      "metadata": {
        "id": "YS9VuxESBcr3"
      },
      "outputs": [],
      "source": [
        "# overrides = (\n",
        "#     f\"{{'train_data_path': '{train_data_path}', \"\n",
        "#     # lower the batch size to be able to train on Colab GPUs\n",
        "#     \"'data_loader.batch_size': 2, \"\n",
        "#     # training examples / batch size. Not required, but gives us a more informative progress bar during training\n",
        "#     \"'data_loader.batches_per_epoch': None}\"\n",
        "# )\n",
        "\n",
        "\n",
        "overrides = (\n",
        "    f\"{{'train_data_path': '{train_data_path}', \"\n",
        "    # lower the batch size to be able to train on Colab GPUs\n",
        "    \"'data_loader.batch_size': 2,}\"\n",
        ")"
      ]
    },
    {
      "cell_type": "code",
      "execution_count": 17,
      "metadata": {
        "id": "2v4tiiXgBC2M"
      },
      "outputs": [
        {
          "data": {
            "text/plain": [
              "\"{'train_data_path': 'E:/wiki_text/wikitext-103/train.txt', 'data_loader.batch_size': 2,}\""
            ]
          },
          "execution_count": 17,
          "metadata": {},
          "output_type": "execute_result"
        }
      ],
      "source": [
        "overrides"
      ]
    },
    {
      "cell_type": "code",
      "execution_count": 3,
      "metadata": {
        "id": "Db_cNfZ76KRf"
      },
      "outputs": [
        {
          "name": "stdout",
          "output_type": "stream",
          "text": [
            "2022-09-21 12:24:08,883 - INFO - allennlp.common.params - evaluation = None\n",
            "2022-09-21 12:24:08,884 - INFO - allennlp.common.params - include_in_archive = None\n",
            "2022-09-21 12:24:08,884 - INFO - allennlp.common.params - random_seed = 13370\n",
            "2022-09-21 12:24:08,884 - INFO - allennlp.common.params - numpy_seed = 1337\n",
            "2022-09-21 12:24:08,884 - INFO - allennlp.common.params - pytorch_seed = 133\n",
            "2022-09-21 12:24:08,885 - INFO - allennlp.common.checks - Pytorch version: 1.11.0+cu102\n",
            "2022-09-21 12:24:08,885 - INFO - allennlp.common.params - type = default\n",
            "2022-09-21 12:24:08,886 - INFO - allennlp.common.params - dataset_reader.type = declutr\n",
            "2022-09-21 12:24:08,886 - INFO - allennlp.common.params - dataset_reader.max_instances = None\n",
            "2022-09-21 12:24:08,886 - INFO - allennlp.common.params - dataset_reader.manual_distributed_sharding = False\n",
            "2022-09-21 12:24:08,886 - INFO - allennlp.common.params - dataset_reader.manual_multiprocess_sharding = False\n",
            "2022-09-21 12:24:08,886 - INFO - allennlp.common.params - dataset_reader.tokenizer.type = pretrained_transformer\n",
            "2022-09-21 12:24:08,886 - INFO - allennlp.common.params - dataset_reader.tokenizer.model_name = distilroberta-base\n",
            "2022-09-21 12:24:08,886 - INFO - allennlp.common.params - dataset_reader.tokenizer.add_special_tokens = True\n",
            "2022-09-21 12:24:08,886 - INFO - allennlp.common.params - dataset_reader.tokenizer.max_length = 510\n",
            "2022-09-21 12:24:08,886 - INFO - allennlp.common.params - dataset_reader.tokenizer.tokenizer_kwargs = None\n",
            "2022-09-21 12:24:08,887 - INFO - allennlp.common.params - dataset_reader.tokenizer.verification_tokens = None\n",
            "2022-09-21 12:24:16,223 - INFO - allennlp.common.params - dataset_reader.token_indexers.tokens.type = pretrained_transformer\n",
            "2022-09-21 12:24:16,224 - INFO - allennlp.common.params - dataset_reader.token_indexers.tokens.token_min_padding_length = 0\n",
            "2022-09-21 12:24:16,224 - INFO - allennlp.common.params - dataset_reader.token_indexers.tokens.model_name = distilroberta-base\n",
            "2022-09-21 12:24:16,224 - INFO - allennlp.common.params - dataset_reader.token_indexers.tokens.namespace = tags\n",
            "2022-09-21 12:24:16,224 - INFO - allennlp.common.params - dataset_reader.token_indexers.tokens.max_length = None\n",
            "2022-09-21 12:24:16,224 - INFO - allennlp.common.params - dataset_reader.token_indexers.tokens.tokenizer_kwargs = None\n",
            "2022-09-21 12:24:16,225 - INFO - allennlp.common.params - dataset_reader.num_anchors = 2\n",
            "2022-09-21 12:24:16,225 - INFO - allennlp.common.params - dataset_reader.num_positives = 2\n",
            "2022-09-21 12:24:16,225 - INFO - allennlp.common.params - dataset_reader.max_span_len = 512\n",
            "2022-09-21 12:24:16,225 - INFO - allennlp.common.params - dataset_reader.min_span_len = 32\n",
            "2022-09-21 12:24:16,225 - INFO - allennlp.common.params - dataset_reader.sampling_strategy = None\n",
            "2022-09-21 12:24:16,225 - INFO - allennlp.common.params - train_data_path = /mnt/sdg/niallt/wiki_text/wikitext-103/train.txt\n",
            "2022-09-21 12:24:16,226 - INFO - allennlp.common.params - datasets_for_vocab_creation = None\n",
            "2022-09-21 12:24:16,226 - INFO - allennlp.common.params - validation_dataset_reader = None\n",
            "2022-09-21 12:24:16,226 - INFO - allennlp.common.params - validation_data_path = None\n",
            "2022-09-21 12:24:16,226 - INFO - allennlp.common.params - validation_data_loader = None\n",
            "2022-09-21 12:24:16,226 - INFO - allennlp.common.params - test_data_path = None\n",
            "2022-09-21 12:24:16,227 - INFO - allennlp.common.params - evaluate_on_test = False\n",
            "2022-09-21 12:24:16,227 - INFO - allennlp.common.params - batch_weight_key = \n",
            "2022-09-21 12:24:16,227 - INFO - allennlp.common.params - data_loader.type = multiprocess\n",
            "2022-09-21 12:24:16,227 - INFO - allennlp.common.params - data_loader.batch_size = 2\n",
            "2022-09-21 12:24:16,227 - INFO - allennlp.common.params - data_loader.drop_last = True\n",
            "2022-09-21 12:24:16,227 - INFO - allennlp.common.params - data_loader.shuffle = False\n",
            "2022-09-21 12:24:16,227 - INFO - allennlp.common.params - data_loader.batch_sampler = None\n",
            "2022-09-21 12:24:16,227 - INFO - allennlp.common.params - data_loader.batches_per_epoch = None\n",
            "2022-09-21 12:24:16,227 - INFO - allennlp.common.params - data_loader.num_workers = 1\n",
            "2022-09-21 12:24:16,228 - INFO - allennlp.common.params - data_loader.max_instances_in_memory = None\n",
            "2022-09-21 12:24:16,228 - INFO - allennlp.common.params - data_loader.start_method = fork\n",
            "2022-09-21 12:24:16,228 - INFO - allennlp.common.params - data_loader.cuda_device = None\n",
            "2022-09-21 12:24:16,228 - INFO - allennlp.common.params - data_loader.quiet = False\n",
            "2022-09-21 12:24:16,228 - INFO - allennlp.common.params - data_loader.collate_fn = <allennlp.data.data_loaders.data_collator.DefaultDataCollator object at 0x7fa3ca147dc0>\n",
            "huggingface/tokenizers: The current process just got forked, after parallelism has already been used. Disabling parallelism to avoid deadlocks...\n",
            "To disable this warning, you can either:\n",
            "\t- Avoid using `tokenizers` before the fork if possible\n",
            "\t- Explicitly set the environment variable TOKENIZERS_PARALLELISM=(true | false)\n",
            "loading instances: 0it [00:00, ?it/s]2022-09-21 12:24:16,244 - INFO - declutr.dataset_reader - Reading instances from lines in file at: /mnt/sdg/niallt/wiki_text/wikitext-103/train.txt\n",
            "Token indices sequence length is longer than the specified maximum sequence length for this model (5284 > 512). Running this sequence through the model will result in indexing errors\n",
            "loading instances: 17824it [18:36, 15.96it/s]\n",
            "2022-09-21 12:42:52,963 - INFO - allennlp.common.params - vocabulary.type = empty\n",
            "2022-09-21 12:42:52,965 - INFO - allennlp.common.params - model.type = declutr\n",
            "2022-09-21 12:42:52,965 - INFO - allennlp.common.params - model.regularizer = None\n",
            "2022-09-21 12:42:52,966 - INFO - allennlp.common.params - model.text_field_embedder.type = mlm\n",
            "2022-09-21 12:42:52,967 - INFO - allennlp.common.params - model.text_field_embedder.token_embedders.tokens.type = pretrained_transformer_mlm\n",
            "2022-09-21 12:42:52,968 - INFO - allennlp.common.params - model.text_field_embedder.token_embedders.tokens.model_name = distilroberta-base\n",
            "2022-09-21 12:42:52,968 - INFO - allennlp.common.params - model.text_field_embedder.token_embedders.tokens.max_length = None\n",
            "2022-09-21 12:42:52,968 - INFO - allennlp.common.params - model.text_field_embedder.token_embedders.tokens.sub_module = None\n",
            "2022-09-21 12:42:52,968 - INFO - allennlp.common.params - model.text_field_embedder.token_embedders.tokens.train_parameters = True\n",
            "2022-09-21 12:42:52,968 - INFO - allennlp.common.params - model.text_field_embedder.token_embedders.tokens.last_layer_only = True\n",
            "2022-09-21 12:42:52,968 - INFO - allennlp.common.params - model.text_field_embedder.token_embedders.tokens.override_weights_file = None\n",
            "2022-09-21 12:42:52,969 - INFO - allennlp.common.params - model.text_field_embedder.token_embedders.tokens.override_weights_strip_prefix = None\n",
            "2022-09-21 12:42:52,969 - INFO - allennlp.common.params - model.text_field_embedder.token_embedders.tokens.gradient_checkpointing = None\n",
            "2022-09-21 12:42:52,969 - INFO - allennlp.common.params - model.text_field_embedder.token_embedders.tokens.tokenizer_kwargs = None\n",
            "2022-09-21 12:42:52,969 - INFO - allennlp.common.params - model.text_field_embedder.token_embedders.tokens.transformer_kwargs = None\n",
            "2022-09-21 12:42:52,969 - INFO - allennlp.common.params - model.text_field_embedder.token_embedders.tokens.masked_language_modeling = True\n",
            "2022-09-21 12:42:54,827 - INFO - allennlp.common.params - model.seq2vec_encoder = None\n",
            "2022-09-21 12:42:54,828 - INFO - allennlp.common.params - model.feedforward = None\n",
            "2022-09-21 12:42:54,828 - INFO - allennlp.common.params - model.miner = None\n",
            "2022-09-21 12:42:54,828 - INFO - allennlp.common.params - model.loss.type = nt_xent\n",
            "2022-09-21 12:42:54,828 - INFO - allennlp.common.params - model.loss.temperature = 0.05\n",
            "2022-09-21 12:42:54,829 - INFO - allennlp.common.params - model.scale_fix = False\n",
            "2022-09-21 12:42:54,829 - INFO - allennlp.common.params - model.initializer = <allennlp.nn.initializers.InitializerApplicator object at 0x7fa3c5a65550>\n",
            "2022-09-21 12:42:54,829 - INFO - allennlp.nn.initializers - Initializing parameters\n",
            "2022-09-21 12:42:54,829 - INFO - allennlp.nn.initializers - Done initializing parameters; the following parameters are using their default initialization from their code\n",
            "2022-09-21 12:42:54,829 - INFO - allennlp.nn.initializers -    _text_field_embedder.token_embedder_tokens.transformer_model.lm_head.bias\n",
            "2022-09-21 12:42:54,830 - INFO - allennlp.nn.initializers -    _text_field_embedder.token_embedder_tokens.transformer_model.lm_head.dense.bias\n",
            "2022-09-21 12:42:54,830 - INFO - allennlp.nn.initializers -    _text_field_embedder.token_embedder_tokens.transformer_model.lm_head.dense.weight\n",
            "2022-09-21 12:42:54,830 - INFO - allennlp.nn.initializers -    _text_field_embedder.token_embedder_tokens.transformer_model.lm_head.layer_norm.bias\n",
            "2022-09-21 12:42:54,830 - INFO - allennlp.nn.initializers -    _text_field_embedder.token_embedder_tokens.transformer_model.lm_head.layer_norm.weight\n",
            "2022-09-21 12:42:54,830 - INFO - allennlp.nn.initializers -    _text_field_embedder.token_embedder_tokens.transformer_model.roberta.embeddings.LayerNorm.bias\n",
            "2022-09-21 12:42:54,830 - INFO - allennlp.nn.initializers -    _text_field_embedder.token_embedder_tokens.transformer_model.roberta.embeddings.LayerNorm.weight\n",
            "2022-09-21 12:42:54,830 - INFO - allennlp.nn.initializers -    _text_field_embedder.token_embedder_tokens.transformer_model.roberta.embeddings.position_embeddings.weight\n",
            "2022-09-21 12:42:54,830 - INFO - allennlp.nn.initializers -    _text_field_embedder.token_embedder_tokens.transformer_model.roberta.embeddings.token_type_embeddings.weight\n",
            "2022-09-21 12:42:54,830 - INFO - allennlp.nn.initializers -    _text_field_embedder.token_embedder_tokens.transformer_model.roberta.embeddings.word_embeddings.weight\n",
            "2022-09-21 12:42:54,830 - INFO - allennlp.nn.initializers -    _text_field_embedder.token_embedder_tokens.transformer_model.roberta.encoder.layer.0.attention.output.LayerNorm.bias\n",
            "2022-09-21 12:42:54,830 - INFO - allennlp.nn.initializers -    _text_field_embedder.token_embedder_tokens.transformer_model.roberta.encoder.layer.0.attention.output.LayerNorm.weight\n",
            "2022-09-21 12:42:54,830 - INFO - allennlp.nn.initializers -    _text_field_embedder.token_embedder_tokens.transformer_model.roberta.encoder.layer.0.attention.output.dense.bias\n",
            "2022-09-21 12:42:54,830 - INFO - allennlp.nn.initializers -    _text_field_embedder.token_embedder_tokens.transformer_model.roberta.encoder.layer.0.attention.output.dense.weight\n",
            "2022-09-21 12:42:54,830 - INFO - allennlp.nn.initializers -    _text_field_embedder.token_embedder_tokens.transformer_model.roberta.encoder.layer.0.attention.self.key.bias\n",
            "2022-09-21 12:42:54,830 - INFO - allennlp.nn.initializers -    _text_field_embedder.token_embedder_tokens.transformer_model.roberta.encoder.layer.0.attention.self.key.weight\n",
            "2022-09-21 12:42:54,830 - INFO - allennlp.nn.initializers -    _text_field_embedder.token_embedder_tokens.transformer_model.roberta.encoder.layer.0.attention.self.query.bias\n",
            "2022-09-21 12:42:54,830 - INFO - allennlp.nn.initializers -    _text_field_embedder.token_embedder_tokens.transformer_model.roberta.encoder.layer.0.attention.self.query.weight\n",
            "2022-09-21 12:42:54,830 - INFO - allennlp.nn.initializers -    _text_field_embedder.token_embedder_tokens.transformer_model.roberta.encoder.layer.0.attention.self.value.bias\n",
            "2022-09-21 12:42:54,831 - INFO - allennlp.nn.initializers -    _text_field_embedder.token_embedder_tokens.transformer_model.roberta.encoder.layer.0.attention.self.value.weight\n",
            "2022-09-21 12:42:54,831 - INFO - allennlp.nn.initializers -    _text_field_embedder.token_embedder_tokens.transformer_model.roberta.encoder.layer.0.intermediate.dense.bias\n",
            "2022-09-21 12:42:54,831 - INFO - allennlp.nn.initializers -    _text_field_embedder.token_embedder_tokens.transformer_model.roberta.encoder.layer.0.intermediate.dense.weight\n",
            "2022-09-21 12:42:54,831 - INFO - allennlp.nn.initializers -    _text_field_embedder.token_embedder_tokens.transformer_model.roberta.encoder.layer.0.output.LayerNorm.bias\n",
            "2022-09-21 12:42:54,831 - INFO - allennlp.nn.initializers -    _text_field_embedder.token_embedder_tokens.transformer_model.roberta.encoder.layer.0.output.LayerNorm.weight\n",
            "2022-09-21 12:42:54,831 - INFO - allennlp.nn.initializers -    _text_field_embedder.token_embedder_tokens.transformer_model.roberta.encoder.layer.0.output.dense.bias\n",
            "2022-09-21 12:42:54,831 - INFO - allennlp.nn.initializers -    _text_field_embedder.token_embedder_tokens.transformer_model.roberta.encoder.layer.0.output.dense.weight\n",
            "2022-09-21 12:42:54,831 - INFO - allennlp.nn.initializers -    _text_field_embedder.token_embedder_tokens.transformer_model.roberta.encoder.layer.1.attention.output.LayerNorm.bias\n",
            "2022-09-21 12:42:54,831 - INFO - allennlp.nn.initializers -    _text_field_embedder.token_embedder_tokens.transformer_model.roberta.encoder.layer.1.attention.output.LayerNorm.weight\n",
            "2022-09-21 12:42:54,831 - INFO - allennlp.nn.initializers -    _text_field_embedder.token_embedder_tokens.transformer_model.roberta.encoder.layer.1.attention.output.dense.bias\n",
            "2022-09-21 12:42:54,831 - INFO - allennlp.nn.initializers -    _text_field_embedder.token_embedder_tokens.transformer_model.roberta.encoder.layer.1.attention.output.dense.weight\n",
            "2022-09-21 12:42:54,831 - INFO - allennlp.nn.initializers -    _text_field_embedder.token_embedder_tokens.transformer_model.roberta.encoder.layer.1.attention.self.key.bias\n",
            "2022-09-21 12:42:54,831 - INFO - allennlp.nn.initializers -    _text_field_embedder.token_embedder_tokens.transformer_model.roberta.encoder.layer.1.attention.self.key.weight\n",
            "2022-09-21 12:42:54,831 - INFO - allennlp.nn.initializers -    _text_field_embedder.token_embedder_tokens.transformer_model.roberta.encoder.layer.1.attention.self.query.bias\n",
            "2022-09-21 12:42:54,831 - INFO - allennlp.nn.initializers -    _text_field_embedder.token_embedder_tokens.transformer_model.roberta.encoder.layer.1.attention.self.query.weight\n",
            "2022-09-21 12:42:54,831 - INFO - allennlp.nn.initializers -    _text_field_embedder.token_embedder_tokens.transformer_model.roberta.encoder.layer.1.attention.self.value.bias\n",
            "2022-09-21 12:42:54,831 - INFO - allennlp.nn.initializers -    _text_field_embedder.token_embedder_tokens.transformer_model.roberta.encoder.layer.1.attention.self.value.weight\n",
            "2022-09-21 12:42:54,831 - INFO - allennlp.nn.initializers -    _text_field_embedder.token_embedder_tokens.transformer_model.roberta.encoder.layer.1.intermediate.dense.bias\n",
            "2022-09-21 12:42:54,831 - INFO - allennlp.nn.initializers -    _text_field_embedder.token_embedder_tokens.transformer_model.roberta.encoder.layer.1.intermediate.dense.weight\n",
            "2022-09-21 12:42:54,831 - INFO - allennlp.nn.initializers -    _text_field_embedder.token_embedder_tokens.transformer_model.roberta.encoder.layer.1.output.LayerNorm.bias\n",
            "2022-09-21 12:42:54,831 - INFO - allennlp.nn.initializers -    _text_field_embedder.token_embedder_tokens.transformer_model.roberta.encoder.layer.1.output.LayerNorm.weight\n",
            "2022-09-21 12:42:54,831 - INFO - allennlp.nn.initializers -    _text_field_embedder.token_embedder_tokens.transformer_model.roberta.encoder.layer.1.output.dense.bias\n",
            "2022-09-21 12:42:54,831 - INFO - allennlp.nn.initializers -    _text_field_embedder.token_embedder_tokens.transformer_model.roberta.encoder.layer.1.output.dense.weight\n",
            "2022-09-21 12:42:54,831 - INFO - allennlp.nn.initializers -    _text_field_embedder.token_embedder_tokens.transformer_model.roberta.encoder.layer.2.attention.output.LayerNorm.bias\n",
            "2022-09-21 12:42:54,831 - INFO - allennlp.nn.initializers -    _text_field_embedder.token_embedder_tokens.transformer_model.roberta.encoder.layer.2.attention.output.LayerNorm.weight\n",
            "2022-09-21 12:42:54,831 - INFO - allennlp.nn.initializers -    _text_field_embedder.token_embedder_tokens.transformer_model.roberta.encoder.layer.2.attention.output.dense.bias\n",
            "2022-09-21 12:42:54,832 - INFO - allennlp.nn.initializers -    _text_field_embedder.token_embedder_tokens.transformer_model.roberta.encoder.layer.2.attention.output.dense.weight\n",
            "2022-09-21 12:42:54,832 - INFO - allennlp.nn.initializers -    _text_field_embedder.token_embedder_tokens.transformer_model.roberta.encoder.layer.2.attention.self.key.bias\n",
            "2022-09-21 12:42:54,832 - INFO - allennlp.nn.initializers -    _text_field_embedder.token_embedder_tokens.transformer_model.roberta.encoder.layer.2.attention.self.key.weight\n",
            "2022-09-21 12:42:54,832 - INFO - allennlp.nn.initializers -    _text_field_embedder.token_embedder_tokens.transformer_model.roberta.encoder.layer.2.attention.self.query.bias\n",
            "2022-09-21 12:42:54,832 - INFO - allennlp.nn.initializers -    _text_field_embedder.token_embedder_tokens.transformer_model.roberta.encoder.layer.2.attention.self.query.weight\n",
            "2022-09-21 12:42:54,832 - INFO - allennlp.nn.initializers -    _text_field_embedder.token_embedder_tokens.transformer_model.roberta.encoder.layer.2.attention.self.value.bias\n",
            "2022-09-21 12:42:54,832 - INFO - allennlp.nn.initializers -    _text_field_embedder.token_embedder_tokens.transformer_model.roberta.encoder.layer.2.attention.self.value.weight\n",
            "2022-09-21 12:42:54,832 - INFO - allennlp.nn.initializers -    _text_field_embedder.token_embedder_tokens.transformer_model.roberta.encoder.layer.2.intermediate.dense.bias\n",
            "2022-09-21 12:42:54,832 - INFO - allennlp.nn.initializers -    _text_field_embedder.token_embedder_tokens.transformer_model.roberta.encoder.layer.2.intermediate.dense.weight\n",
            "2022-09-21 12:42:54,832 - INFO - allennlp.nn.initializers -    _text_field_embedder.token_embedder_tokens.transformer_model.roberta.encoder.layer.2.output.LayerNorm.bias\n",
            "2022-09-21 12:42:54,832 - INFO - allennlp.nn.initializers -    _text_field_embedder.token_embedder_tokens.transformer_model.roberta.encoder.layer.2.output.LayerNorm.weight\n",
            "2022-09-21 12:42:54,832 - INFO - allennlp.nn.initializers -    _text_field_embedder.token_embedder_tokens.transformer_model.roberta.encoder.layer.2.output.dense.bias\n",
            "2022-09-21 12:42:54,832 - INFO - allennlp.nn.initializers -    _text_field_embedder.token_embedder_tokens.transformer_model.roberta.encoder.layer.2.output.dense.weight\n",
            "2022-09-21 12:42:54,832 - INFO - allennlp.nn.initializers -    _text_field_embedder.token_embedder_tokens.transformer_model.roberta.encoder.layer.3.attention.output.LayerNorm.bias\n",
            "2022-09-21 12:42:54,832 - INFO - allennlp.nn.initializers -    _text_field_embedder.token_embedder_tokens.transformer_model.roberta.encoder.layer.3.attention.output.LayerNorm.weight\n",
            "2022-09-21 12:42:54,832 - INFO - allennlp.nn.initializers -    _text_field_embedder.token_embedder_tokens.transformer_model.roberta.encoder.layer.3.attention.output.dense.bias\n",
            "2022-09-21 12:42:54,832 - INFO - allennlp.nn.initializers -    _text_field_embedder.token_embedder_tokens.transformer_model.roberta.encoder.layer.3.attention.output.dense.weight\n",
            "2022-09-21 12:42:54,832 - INFO - allennlp.nn.initializers -    _text_field_embedder.token_embedder_tokens.transformer_model.roberta.encoder.layer.3.attention.self.key.bias\n",
            "2022-09-21 12:42:54,832 - INFO - allennlp.nn.initializers -    _text_field_embedder.token_embedder_tokens.transformer_model.roberta.encoder.layer.3.attention.self.key.weight\n",
            "2022-09-21 12:42:54,832 - INFO - allennlp.nn.initializers -    _text_field_embedder.token_embedder_tokens.transformer_model.roberta.encoder.layer.3.attention.self.query.bias\n",
            "2022-09-21 12:42:54,832 - INFO - allennlp.nn.initializers -    _text_field_embedder.token_embedder_tokens.transformer_model.roberta.encoder.layer.3.attention.self.query.weight\n",
            "2022-09-21 12:42:54,832 - INFO - allennlp.nn.initializers -    _text_field_embedder.token_embedder_tokens.transformer_model.roberta.encoder.layer.3.attention.self.value.bias\n",
            "2022-09-21 12:42:54,832 - INFO - allennlp.nn.initializers -    _text_field_embedder.token_embedder_tokens.transformer_model.roberta.encoder.layer.3.attention.self.value.weight\n",
            "2022-09-21 12:42:54,832 - INFO - allennlp.nn.initializers -    _text_field_embedder.token_embedder_tokens.transformer_model.roberta.encoder.layer.3.intermediate.dense.bias\n",
            "2022-09-21 12:42:54,832 - INFO - allennlp.nn.initializers -    _text_field_embedder.token_embedder_tokens.transformer_model.roberta.encoder.layer.3.intermediate.dense.weight\n",
            "2022-09-21 12:42:54,832 - INFO - allennlp.nn.initializers -    _text_field_embedder.token_embedder_tokens.transformer_model.roberta.encoder.layer.3.output.LayerNorm.bias\n",
            "2022-09-21 12:42:54,833 - INFO - allennlp.nn.initializers -    _text_field_embedder.token_embedder_tokens.transformer_model.roberta.encoder.layer.3.output.LayerNorm.weight\n",
            "2022-09-21 12:42:54,833 - INFO - allennlp.nn.initializers -    _text_field_embedder.token_embedder_tokens.transformer_model.roberta.encoder.layer.3.output.dense.bias\n",
            "2022-09-21 12:42:54,833 - INFO - allennlp.nn.initializers -    _text_field_embedder.token_embedder_tokens.transformer_model.roberta.encoder.layer.3.output.dense.weight\n",
            "2022-09-21 12:42:54,833 - INFO - allennlp.nn.initializers -    _text_field_embedder.token_embedder_tokens.transformer_model.roberta.encoder.layer.4.attention.output.LayerNorm.bias\n",
            "2022-09-21 12:42:54,833 - INFO - allennlp.nn.initializers -    _text_field_embedder.token_embedder_tokens.transformer_model.roberta.encoder.layer.4.attention.output.LayerNorm.weight\n",
            "2022-09-21 12:42:54,833 - INFO - allennlp.nn.initializers -    _text_field_embedder.token_embedder_tokens.transformer_model.roberta.encoder.layer.4.attention.output.dense.bias\n",
            "2022-09-21 12:42:54,833 - INFO - allennlp.nn.initializers -    _text_field_embedder.token_embedder_tokens.transformer_model.roberta.encoder.layer.4.attention.output.dense.weight\n",
            "2022-09-21 12:42:54,833 - INFO - allennlp.nn.initializers -    _text_field_embedder.token_embedder_tokens.transformer_model.roberta.encoder.layer.4.attention.self.key.bias\n",
            "2022-09-21 12:42:54,833 - INFO - allennlp.nn.initializers -    _text_field_embedder.token_embedder_tokens.transformer_model.roberta.encoder.layer.4.attention.self.key.weight\n",
            "2022-09-21 12:42:54,833 - INFO - allennlp.nn.initializers -    _text_field_embedder.token_embedder_tokens.transformer_model.roberta.encoder.layer.4.attention.self.query.bias\n",
            "2022-09-21 12:42:54,833 - INFO - allennlp.nn.initializers -    _text_field_embedder.token_embedder_tokens.transformer_model.roberta.encoder.layer.4.attention.self.query.weight\n",
            "2022-09-21 12:42:54,833 - INFO - allennlp.nn.initializers -    _text_field_embedder.token_embedder_tokens.transformer_model.roberta.encoder.layer.4.attention.self.value.bias\n",
            "2022-09-21 12:42:54,833 - INFO - allennlp.nn.initializers -    _text_field_embedder.token_embedder_tokens.transformer_model.roberta.encoder.layer.4.attention.self.value.weight\n",
            "2022-09-21 12:42:54,833 - INFO - allennlp.nn.initializers -    _text_field_embedder.token_embedder_tokens.transformer_model.roberta.encoder.layer.4.intermediate.dense.bias\n",
            "2022-09-21 12:42:54,833 - INFO - allennlp.nn.initializers -    _text_field_embedder.token_embedder_tokens.transformer_model.roberta.encoder.layer.4.intermediate.dense.weight\n",
            "2022-09-21 12:42:54,833 - INFO - allennlp.nn.initializers -    _text_field_embedder.token_embedder_tokens.transformer_model.roberta.encoder.layer.4.output.LayerNorm.bias\n",
            "2022-09-21 12:42:54,833 - INFO - allennlp.nn.initializers -    _text_field_embedder.token_embedder_tokens.transformer_model.roberta.encoder.layer.4.output.LayerNorm.weight\n",
            "2022-09-21 12:42:54,833 - INFO - allennlp.nn.initializers -    _text_field_embedder.token_embedder_tokens.transformer_model.roberta.encoder.layer.4.output.dense.bias\n",
            "2022-09-21 12:42:54,833 - INFO - allennlp.nn.initializers -    _text_field_embedder.token_embedder_tokens.transformer_model.roberta.encoder.layer.4.output.dense.weight\n",
            "2022-09-21 12:42:54,833 - INFO - allennlp.nn.initializers -    _text_field_embedder.token_embedder_tokens.transformer_model.roberta.encoder.layer.5.attention.output.LayerNorm.bias\n",
            "2022-09-21 12:42:54,833 - INFO - allennlp.nn.initializers -    _text_field_embedder.token_embedder_tokens.transformer_model.roberta.encoder.layer.5.attention.output.LayerNorm.weight\n",
            "2022-09-21 12:42:54,833 - INFO - allennlp.nn.initializers -    _text_field_embedder.token_embedder_tokens.transformer_model.roberta.encoder.layer.5.attention.output.dense.bias\n",
            "2022-09-21 12:42:54,833 - INFO - allennlp.nn.initializers -    _text_field_embedder.token_embedder_tokens.transformer_model.roberta.encoder.layer.5.attention.output.dense.weight\n",
            "2022-09-21 12:42:54,833 - INFO - allennlp.nn.initializers -    _text_field_embedder.token_embedder_tokens.transformer_model.roberta.encoder.layer.5.attention.self.key.bias\n",
            "2022-09-21 12:42:54,833 - INFO - allennlp.nn.initializers -    _text_field_embedder.token_embedder_tokens.transformer_model.roberta.encoder.layer.5.attention.self.key.weight\n",
            "2022-09-21 12:42:54,833 - INFO - allennlp.nn.initializers -    _text_field_embedder.token_embedder_tokens.transformer_model.roberta.encoder.layer.5.attention.self.query.bias\n",
            "2022-09-21 12:42:54,833 - INFO - allennlp.nn.initializers -    _text_field_embedder.token_embedder_tokens.transformer_model.roberta.encoder.layer.5.attention.self.query.weight\n",
            "2022-09-21 12:42:54,834 - INFO - allennlp.nn.initializers -    _text_field_embedder.token_embedder_tokens.transformer_model.roberta.encoder.layer.5.attention.self.value.bias\n",
            "2022-09-21 12:42:54,834 - INFO - allennlp.nn.initializers -    _text_field_embedder.token_embedder_tokens.transformer_model.roberta.encoder.layer.5.attention.self.value.weight\n",
            "2022-09-21 12:42:54,834 - INFO - allennlp.nn.initializers -    _text_field_embedder.token_embedder_tokens.transformer_model.roberta.encoder.layer.5.intermediate.dense.bias\n",
            "2022-09-21 12:42:54,834 - INFO - allennlp.nn.initializers -    _text_field_embedder.token_embedder_tokens.transformer_model.roberta.encoder.layer.5.intermediate.dense.weight\n",
            "2022-09-21 12:42:54,834 - INFO - allennlp.nn.initializers -    _text_field_embedder.token_embedder_tokens.transformer_model.roberta.encoder.layer.5.output.LayerNorm.bias\n",
            "2022-09-21 12:42:54,834 - INFO - allennlp.nn.initializers -    _text_field_embedder.token_embedder_tokens.transformer_model.roberta.encoder.layer.5.output.LayerNorm.weight\n",
            "2022-09-21 12:42:54,834 - INFO - allennlp.nn.initializers -    _text_field_embedder.token_embedder_tokens.transformer_model.roberta.encoder.layer.5.output.dense.bias\n",
            "2022-09-21 12:42:54,834 - INFO - allennlp.nn.initializers -    _text_field_embedder.token_embedder_tokens.transformer_model.roberta.encoder.layer.5.output.dense.weight\n",
            "2022-09-21 13:00:18,889 - INFO - allennlp.common.params - trainer.type = gradient_descent\n",
            "2022-09-21 13:00:18,890 - INFO - allennlp.common.params - trainer.cuda_device = None\n",
            "2022-09-21 13:00:18,890 - INFO - allennlp.common.params - trainer.distributed = False\n",
            "2022-09-21 13:00:18,890 - INFO - allennlp.common.params - trainer.world_size = 1\n",
            "2022-09-21 13:00:18,890 - INFO - allennlp.common.params - trainer.patience = None\n",
            "2022-09-21 13:00:18,890 - INFO - allennlp.common.params - trainer.validation_metric = -loss\n",
            "2022-09-21 13:00:18,890 - INFO - allennlp.common.params - trainer.num_epochs = 1\n",
            "2022-09-21 13:00:18,890 - INFO - allennlp.common.params - trainer.grad_norm = 1\n",
            "2022-09-21 13:00:18,890 - INFO - allennlp.common.params - trainer.grad_clipping = None\n",
            "2022-09-21 13:00:18,890 - INFO - allennlp.common.params - trainer.num_gradient_accumulation_steps = 1\n",
            "2022-09-21 13:00:18,890 - INFO - allennlp.common.params - trainer.use_amp = True\n",
            "2022-09-21 13:00:18,890 - INFO - allennlp.common.params - trainer.no_grad = None\n",
            "2022-09-21 13:00:18,891 - INFO - allennlp.common.params - trainer.momentum_scheduler = None\n",
            "2022-09-21 13:00:18,891 - INFO - allennlp.common.params - trainer.moving_average = None\n",
            "2022-09-21 13:00:18,891 - INFO - allennlp.common.params - trainer.callbacks = None\n",
            "2022-09-21 13:00:18,891 - INFO - allennlp.common.params - trainer.enable_default_callbacks = True\n",
            "2022-09-21 13:00:18,891 - INFO - allennlp.common.params - trainer.run_confidence_checks = True\n",
            "2022-09-21 13:00:18,891 - INFO - allennlp.common.params - trainer.grad_scaling = True\n",
            "2022-09-21 13:00:20,923 - INFO - allennlp.common.params - trainer.optimizer.type = huggingface_adamw\n",
            "2022-09-21 13:00:20,923 - INFO - allennlp.common.params - trainer.optimizer.lr = 5e-05\n",
            "2022-09-21 13:00:20,923 - INFO - allennlp.common.params - trainer.optimizer.betas = (0.9, 0.999)\n",
            "2022-09-21 13:00:20,923 - INFO - allennlp.common.params - trainer.optimizer.eps = 1e-06\n",
            "2022-09-21 13:00:20,923 - INFO - allennlp.common.params - trainer.optimizer.weight_decay = 0.1\n",
            "2022-09-21 13:00:20,923 - INFO - allennlp.common.params - trainer.optimizer.correct_bias = False\n",
            "2022-09-21 13:00:20,924 - INFO - allennlp.training.optimizers - Done constructing parameter groups.\n",
            "2022-09-21 13:00:20,924 - INFO - allennlp.training.optimizers - Group 0: ['_text_field_embedder.token_embedder_tokens.transformer_model.roberta.encoder.layer.2.attention.self.key.bias', '_text_field_embedder.token_embedder_tokens.transformer_model.roberta.encoder.layer.0.attention.self.value.bias', '_text_field_embedder.token_embedder_tokens.transformer_model.roberta.encoder.layer.4.intermediate.dense.bias', '_text_field_embedder.token_embedder_tokens.transformer_model.roberta.encoder.layer.2.attention.self.query.bias', '_text_field_embedder.token_embedder_tokens.transformer_model.roberta.encoder.layer.2.output.LayerNorm.bias', '_text_field_embedder.token_embedder_tokens.transformer_model.roberta.encoder.layer.1.attention.output.dense.bias', '_text_field_embedder.token_embedder_tokens.transformer_model.roberta.encoder.layer.3.attention.self.query.bias', '_text_field_embedder.token_embedder_tokens.transformer_model.roberta.encoder.layer.4.attention.self.value.bias', '_text_field_embedder.token_embedder_tokens.transformer_model.roberta.encoder.layer.1.attention.self.key.bias', '_text_field_embedder.token_embedder_tokens.transformer_model.roberta.encoder.layer.1.output.LayerNorm.bias', '_text_field_embedder.token_embedder_tokens.transformer_model.roberta.encoder.layer.0.output.dense.bias', '_text_field_embedder.token_embedder_tokens.transformer_model.roberta.encoder.layer.4.output.LayerNorm.weight', '_text_field_embedder.token_embedder_tokens.transformer_model.roberta.encoder.layer.2.attention.output.LayerNorm.weight', '_text_field_embedder.token_embedder_tokens.transformer_model.roberta.encoder.layer.2.attention.self.value.bias', '_text_field_embedder.token_embedder_tokens.transformer_model.roberta.encoder.layer.4.output.LayerNorm.bias', '_text_field_embedder.token_embedder_tokens.transformer_model.roberta.embeddings.LayerNorm.bias', '_text_field_embedder.token_embedder_tokens.transformer_model.roberta.encoder.layer.5.output.LayerNorm.bias', '_text_field_embedder.token_embedder_tokens.transformer_model.roberta.encoder.layer.5.attention.self.key.bias', '_text_field_embedder.token_embedder_tokens.transformer_model.roberta.encoder.layer.3.attention.output.LayerNorm.bias', '_text_field_embedder.token_embedder_tokens.transformer_model.roberta.encoder.layer.1.attention.output.LayerNorm.bias', '_text_field_embedder.token_embedder_tokens.transformer_model.roberta.encoder.layer.2.intermediate.dense.bias', '_text_field_embedder.token_embedder_tokens.transformer_model.roberta.encoder.layer.3.intermediate.dense.bias', '_text_field_embedder.token_embedder_tokens.transformer_model.roberta.encoder.layer.2.attention.output.LayerNorm.bias', '_text_field_embedder.token_embedder_tokens.transformer_model.roberta.encoder.layer.4.attention.output.dense.bias', '_text_field_embedder.token_embedder_tokens.transformer_model.roberta.encoder.layer.1.intermediate.dense.bias', '_text_field_embedder.token_embedder_tokens.transformer_model.roberta.encoder.layer.1.attention.self.query.bias', '_text_field_embedder.token_embedder_tokens.transformer_model.roberta.encoder.layer.4.attention.self.query.bias', '_text_field_embedder.token_embedder_tokens.transformer_model.roberta.encoder.layer.5.output.dense.bias', '_text_field_embedder.token_embedder_tokens.transformer_model.roberta.encoder.layer.1.output.dense.bias', '_text_field_embedder.token_embedder_tokens.transformer_model.roberta.encoder.layer.0.intermediate.dense.bias', '_text_field_embedder.token_embedder_tokens.transformer_model.roberta.encoder.layer.4.attention.output.LayerNorm.bias', '_text_field_embedder.token_embedder_tokens.transformer_model.roberta.encoder.layer.4.output.dense.bias', '_text_field_embedder.token_embedder_tokens.transformer_model.roberta.encoder.layer.1.attention.self.value.bias', '_text_field_embedder.token_embedder_tokens.transformer_model.lm_head.bias', '_text_field_embedder.token_embedder_tokens.transformer_model.lm_head.layer_norm.weight', '_text_field_embedder.token_embedder_tokens.transformer_model.roberta.encoder.layer.1.attention.output.LayerNorm.weight', '_text_field_embedder.token_embedder_tokens.transformer_model.roberta.encoder.layer.2.attention.output.dense.bias', '_text_field_embedder.token_embedder_tokens.transformer_model.roberta.encoder.layer.5.attention.output.LayerNorm.bias', '_text_field_embedder.token_embedder_tokens.transformer_model.roberta.encoder.layer.1.output.LayerNorm.weight', '_text_field_embedder.token_embedder_tokens.transformer_model.roberta.encoder.layer.0.attention.output.dense.bias', '_text_field_embedder.token_embedder_tokens.transformer_model.roberta.encoder.layer.3.output.LayerNorm.weight', '_text_field_embedder.token_embedder_tokens.transformer_model.roberta.encoder.layer.5.intermediate.dense.bias', '_text_field_embedder.token_embedder_tokens.transformer_model.lm_head.dense.bias', '_text_field_embedder.token_embedder_tokens.transformer_model.roberta.encoder.layer.3.attention.output.dense.bias', '_text_field_embedder.token_embedder_tokens.transformer_model.roberta.encoder.layer.0.attention.self.key.bias', '_text_field_embedder.token_embedder_tokens.transformer_model.roberta.encoder.layer.3.attention.self.value.bias', '_text_field_embedder.token_embedder_tokens.transformer_model.roberta.encoder.layer.2.output.LayerNorm.weight', '_text_field_embedder.token_embedder_tokens.transformer_model.roberta.encoder.layer.5.attention.output.dense.bias', '_text_field_embedder.token_embedder_tokens.transformer_model.roberta.encoder.layer.0.attention.self.query.bias', '_text_field_embedder.token_embedder_tokens.transformer_model.roberta.encoder.layer.0.output.LayerNorm.weight', '_text_field_embedder.token_embedder_tokens.transformer_model.roberta.embeddings.LayerNorm.weight', '_text_field_embedder.token_embedder_tokens.transformer_model.roberta.encoder.layer.3.attention.self.key.bias', '_text_field_embedder.token_embedder_tokens.transformer_model.roberta.encoder.layer.4.attention.output.LayerNorm.weight', '_text_field_embedder.token_embedder_tokens.transformer_model.roberta.encoder.layer.0.attention.output.LayerNorm.bias', '_text_field_embedder.token_embedder_tokens.transformer_model.roberta.encoder.layer.5.attention.self.query.bias', '_text_field_embedder.token_embedder_tokens.transformer_model.roberta.encoder.layer.5.attention.output.LayerNorm.weight', '_text_field_embedder.token_embedder_tokens.transformer_model.roberta.encoder.layer.5.output.LayerNorm.weight', '_text_field_embedder.token_embedder_tokens.transformer_model.lm_head.layer_norm.bias', '_text_field_embedder.token_embedder_tokens.transformer_model.roberta.encoder.layer.0.output.LayerNorm.bias', '_text_field_embedder.token_embedder_tokens.transformer_model.roberta.encoder.layer.3.attention.output.LayerNorm.weight', '_text_field_embedder.token_embedder_tokens.transformer_model.roberta.encoder.layer.0.attention.output.LayerNorm.weight', '_text_field_embedder.token_embedder_tokens.transformer_model.roberta.encoder.layer.4.attention.self.key.bias', '_text_field_embedder.token_embedder_tokens.transformer_model.roberta.encoder.layer.3.output.dense.bias', '_text_field_embedder.token_embedder_tokens.transformer_model.roberta.encoder.layer.5.attention.self.value.bias', '_text_field_embedder.token_embedder_tokens.transformer_model.roberta.encoder.layer.2.output.dense.bias', '_text_field_embedder.token_embedder_tokens.transformer_model.roberta.encoder.layer.3.output.LayerNorm.bias'], {'weight_decay': 0}\n",
            "2022-09-21 13:00:20,924 - INFO - allennlp.training.optimizers - Group 1: ['_text_field_embedder.token_embedder_tokens.transformer_model.roberta.encoder.layer.2.intermediate.dense.weight', '_text_field_embedder.token_embedder_tokens.transformer_model.roberta.encoder.layer.4.attention.self.key.weight', '_text_field_embedder.token_embedder_tokens.transformer_model.roberta.encoder.layer.0.attention.self.query.weight', '_text_field_embedder.token_embedder_tokens.transformer_model.roberta.embeddings.position_embeddings.weight', '_text_field_embedder.token_embedder_tokens.transformer_model.roberta.encoder.layer.3.intermediate.dense.weight', '_text_field_embedder.token_embedder_tokens.transformer_model.roberta.encoder.layer.4.output.dense.weight', '_text_field_embedder.token_embedder_tokens.transformer_model.roberta.encoder.layer.0.attention.self.value.weight', '_text_field_embedder.token_embedder_tokens.transformer_model.roberta.encoder.layer.5.attention.self.query.weight', '_text_field_embedder.token_embedder_tokens.transformer_model.roberta.encoder.layer.5.attention.self.key.weight', '_text_field_embedder.token_embedder_tokens.transformer_model.roberta.encoder.layer.3.output.dense.weight', '_text_field_embedder.token_embedder_tokens.transformer_model.roberta.encoder.layer.1.output.dense.weight', '_text_field_embedder.token_embedder_tokens.transformer_model.roberta.encoder.layer.5.output.dense.weight', '_text_field_embedder.token_embedder_tokens.transformer_model.roberta.encoder.layer.5.attention.self.value.weight', '_text_field_embedder.token_embedder_tokens.transformer_model.roberta.encoder.layer.0.intermediate.dense.weight', '_text_field_embedder.token_embedder_tokens.transformer_model.roberta.encoder.layer.1.attention.self.query.weight', '_text_field_embedder.token_embedder_tokens.transformer_model.roberta.encoder.layer.3.attention.self.query.weight', '_text_field_embedder.token_embedder_tokens.transformer_model.roberta.encoder.layer.1.intermediate.dense.weight', '_text_field_embedder.token_embedder_tokens.transformer_model.roberta.encoder.layer.1.attention.output.dense.weight', '_text_field_embedder.token_embedder_tokens.transformer_model.roberta.encoder.layer.3.attention.output.dense.weight', '_text_field_embedder.token_embedder_tokens.transformer_model.roberta.encoder.layer.2.output.dense.weight', '_text_field_embedder.token_embedder_tokens.transformer_model.roberta.encoder.layer.0.output.dense.weight', '_text_field_embedder.token_embedder_tokens.transformer_model.roberta.encoder.layer.5.intermediate.dense.weight', '_text_field_embedder.token_embedder_tokens.transformer_model.roberta.encoder.layer.4.attention.self.value.weight', '_text_field_embedder.token_embedder_tokens.transformer_model.roberta.encoder.layer.0.attention.output.dense.weight', '_text_field_embedder.token_embedder_tokens.transformer_model.lm_head.dense.weight', '_text_field_embedder.token_embedder_tokens.transformer_model.roberta.encoder.layer.1.attention.self.key.weight', '_text_field_embedder.token_embedder_tokens.transformer_model.roberta.encoder.layer.5.attention.output.dense.weight', '_text_field_embedder.token_embedder_tokens.transformer_model.roberta.encoder.layer.2.attention.self.key.weight', '_text_field_embedder.token_embedder_tokens.transformer_model.roberta.encoder.layer.4.attention.output.dense.weight', '_text_field_embedder.token_embedder_tokens.transformer_model.roberta.encoder.layer.3.attention.self.value.weight', '_text_field_embedder.token_embedder_tokens.transformer_model.roberta.encoder.layer.4.attention.self.query.weight', '_text_field_embedder.token_embedder_tokens.transformer_model.roberta.encoder.layer.2.attention.self.query.weight', '_text_field_embedder.token_embedder_tokens.transformer_model.roberta.embeddings.word_embeddings.weight', '_text_field_embedder.token_embedder_tokens.transformer_model.roberta.encoder.layer.1.attention.self.value.weight', '_text_field_embedder.token_embedder_tokens.transformer_model.roberta.encoder.layer.3.attention.self.key.weight', '_text_field_embedder.token_embedder_tokens.transformer_model.roberta.encoder.layer.0.attention.self.key.weight', '_text_field_embedder.token_embedder_tokens.transformer_model.roberta.encoder.layer.2.attention.self.value.weight', '_text_field_embedder.token_embedder_tokens.transformer_model.roberta.encoder.layer.2.attention.output.dense.weight', '_text_field_embedder.token_embedder_tokens.transformer_model.roberta.embeddings.token_type_embeddings.weight', '_text_field_embedder.token_embedder_tokens.transformer_model.roberta.encoder.layer.4.intermediate.dense.weight'], {}\n",
            "2022-09-21 13:00:20,924 - INFO - allennlp.training.optimizers - Number of trainable parameters: 82170201\n",
            "/home/niallt/venvs/39_declutr/lib/python3.9/site-packages/transformers/optimization.py:306: FutureWarning: This implementation of AdamW is deprecated and will be removed in a future version. Use the PyTorch implementation torch.optim.AdamW instead, or set `no_deprecation_warning=True` to disable this warning\n",
            "  warnings.warn(\n",
            "2022-09-21 13:00:20,927 - INFO - allennlp.common.util - The following parameters are Frozen (without gradient):\n",
            "2022-09-21 13:00:20,927 - INFO - allennlp.common.util - The following parameters are Tunable (with gradient):\n",
            "2022-09-21 13:00:20,927 - INFO - allennlp.common.util - _text_field_embedder.token_embedder_tokens.transformer_model.roberta.embeddings.word_embeddings.weight\n",
            "2022-09-21 13:00:20,927 - INFO - allennlp.common.util - _text_field_embedder.token_embedder_tokens.transformer_model.roberta.embeddings.position_embeddings.weight\n",
            "2022-09-21 13:00:20,927 - INFO - allennlp.common.util - _text_field_embedder.token_embedder_tokens.transformer_model.roberta.embeddings.token_type_embeddings.weight\n",
            "2022-09-21 13:00:20,928 - INFO - allennlp.common.util - _text_field_embedder.token_embedder_tokens.transformer_model.roberta.embeddings.LayerNorm.weight\n",
            "2022-09-21 13:00:20,928 - INFO - allennlp.common.util - _text_field_embedder.token_embedder_tokens.transformer_model.roberta.embeddings.LayerNorm.bias\n",
            "2022-09-21 13:00:20,928 - INFO - allennlp.common.util - _text_field_embedder.token_embedder_tokens.transformer_model.roberta.encoder.layer.0.attention.self.query.weight\n",
            "2022-09-21 13:00:20,928 - INFO - allennlp.common.util - _text_field_embedder.token_embedder_tokens.transformer_model.roberta.encoder.layer.0.attention.self.query.bias\n",
            "2022-09-21 13:00:20,928 - INFO - allennlp.common.util - _text_field_embedder.token_embedder_tokens.transformer_model.roberta.encoder.layer.0.attention.self.key.weight\n",
            "2022-09-21 13:00:20,928 - INFO - allennlp.common.util - _text_field_embedder.token_embedder_tokens.transformer_model.roberta.encoder.layer.0.attention.self.key.bias\n",
            "2022-09-21 13:00:20,928 - INFO - allennlp.common.util - _text_field_embedder.token_embedder_tokens.transformer_model.roberta.encoder.layer.0.attention.self.value.weight\n",
            "2022-09-21 13:00:20,928 - INFO - allennlp.common.util - _text_field_embedder.token_embedder_tokens.transformer_model.roberta.encoder.layer.0.attention.self.value.bias\n",
            "2022-09-21 13:00:20,928 - INFO - allennlp.common.util - _text_field_embedder.token_embedder_tokens.transformer_model.roberta.encoder.layer.0.attention.output.dense.weight\n",
            "2022-09-21 13:00:20,928 - INFO - allennlp.common.util - _text_field_embedder.token_embedder_tokens.transformer_model.roberta.encoder.layer.0.attention.output.dense.bias\n",
            "2022-09-21 13:00:20,928 - INFO - allennlp.common.util - _text_field_embedder.token_embedder_tokens.transformer_model.roberta.encoder.layer.0.attention.output.LayerNorm.weight\n",
            "2022-09-21 13:00:20,928 - INFO - allennlp.common.util - _text_field_embedder.token_embedder_tokens.transformer_model.roberta.encoder.layer.0.attention.output.LayerNorm.bias\n",
            "2022-09-21 13:00:20,928 - INFO - allennlp.common.util - _text_field_embedder.token_embedder_tokens.transformer_model.roberta.encoder.layer.0.intermediate.dense.weight\n",
            "2022-09-21 13:00:20,928 - INFO - allennlp.common.util - _text_field_embedder.token_embedder_tokens.transformer_model.roberta.encoder.layer.0.intermediate.dense.bias\n",
            "2022-09-21 13:00:20,928 - INFO - allennlp.common.util - _text_field_embedder.token_embedder_tokens.transformer_model.roberta.encoder.layer.0.output.dense.weight\n",
            "2022-09-21 13:00:20,928 - INFO - allennlp.common.util - _text_field_embedder.token_embedder_tokens.transformer_model.roberta.encoder.layer.0.output.dense.bias\n",
            "2022-09-21 13:00:20,928 - INFO - allennlp.common.util - _text_field_embedder.token_embedder_tokens.transformer_model.roberta.encoder.layer.0.output.LayerNorm.weight\n",
            "2022-09-21 13:00:20,928 - INFO - allennlp.common.util - _text_field_embedder.token_embedder_tokens.transformer_model.roberta.encoder.layer.0.output.LayerNorm.bias\n",
            "2022-09-21 13:00:20,928 - INFO - allennlp.common.util - _text_field_embedder.token_embedder_tokens.transformer_model.roberta.encoder.layer.1.attention.self.query.weight\n",
            "2022-09-21 13:00:20,928 - INFO - allennlp.common.util - _text_field_embedder.token_embedder_tokens.transformer_model.roberta.encoder.layer.1.attention.self.query.bias\n",
            "2022-09-21 13:00:20,928 - INFO - allennlp.common.util - _text_field_embedder.token_embedder_tokens.transformer_model.roberta.encoder.layer.1.attention.self.key.weight\n",
            "2022-09-21 13:00:20,928 - INFO - allennlp.common.util - _text_field_embedder.token_embedder_tokens.transformer_model.roberta.encoder.layer.1.attention.self.key.bias\n",
            "2022-09-21 13:00:20,929 - INFO - allennlp.common.util - _text_field_embedder.token_embedder_tokens.transformer_model.roberta.encoder.layer.1.attention.self.value.weight\n",
            "2022-09-21 13:00:20,929 - INFO - allennlp.common.util - _text_field_embedder.token_embedder_tokens.transformer_model.roberta.encoder.layer.1.attention.self.value.bias\n",
            "2022-09-21 13:00:20,929 - INFO - allennlp.common.util - _text_field_embedder.token_embedder_tokens.transformer_model.roberta.encoder.layer.1.attention.output.dense.weight\n",
            "2022-09-21 13:00:20,929 - INFO - allennlp.common.util - _text_field_embedder.token_embedder_tokens.transformer_model.roberta.encoder.layer.1.attention.output.dense.bias\n",
            "2022-09-21 13:00:20,929 - INFO - allennlp.common.util - _text_field_embedder.token_embedder_tokens.transformer_model.roberta.encoder.layer.1.attention.output.LayerNorm.weight\n",
            "2022-09-21 13:00:20,929 - INFO - allennlp.common.util - _text_field_embedder.token_embedder_tokens.transformer_model.roberta.encoder.layer.1.attention.output.LayerNorm.bias\n",
            "2022-09-21 13:00:20,929 - INFO - allennlp.common.util - _text_field_embedder.token_embedder_tokens.transformer_model.roberta.encoder.layer.1.intermediate.dense.weight\n",
            "2022-09-21 13:00:20,929 - INFO - allennlp.common.util - _text_field_embedder.token_embedder_tokens.transformer_model.roberta.encoder.layer.1.intermediate.dense.bias\n",
            "2022-09-21 13:00:20,929 - INFO - allennlp.common.util - _text_field_embedder.token_embedder_tokens.transformer_model.roberta.encoder.layer.1.output.dense.weight\n",
            "2022-09-21 13:00:20,929 - INFO - allennlp.common.util - _text_field_embedder.token_embedder_tokens.transformer_model.roberta.encoder.layer.1.output.dense.bias\n",
            "2022-09-21 13:00:20,929 - INFO - allennlp.common.util - _text_field_embedder.token_embedder_tokens.transformer_model.roberta.encoder.layer.1.output.LayerNorm.weight\n",
            "2022-09-21 13:00:20,929 - INFO - allennlp.common.util - _text_field_embedder.token_embedder_tokens.transformer_model.roberta.encoder.layer.1.output.LayerNorm.bias\n",
            "2022-09-21 13:00:20,929 - INFO - allennlp.common.util - _text_field_embedder.token_embedder_tokens.transformer_model.roberta.encoder.layer.2.attention.self.query.weight\n",
            "2022-09-21 13:00:20,929 - INFO - allennlp.common.util - _text_field_embedder.token_embedder_tokens.transformer_model.roberta.encoder.layer.2.attention.self.query.bias\n",
            "2022-09-21 13:00:20,929 - INFO - allennlp.common.util - _text_field_embedder.token_embedder_tokens.transformer_model.roberta.encoder.layer.2.attention.self.key.weight\n",
            "2022-09-21 13:00:20,929 - INFO - allennlp.common.util - _text_field_embedder.token_embedder_tokens.transformer_model.roberta.encoder.layer.2.attention.self.key.bias\n",
            "2022-09-21 13:00:20,929 - INFO - allennlp.common.util - _text_field_embedder.token_embedder_tokens.transformer_model.roberta.encoder.layer.2.attention.self.value.weight\n",
            "2022-09-21 13:00:20,929 - INFO - allennlp.common.util - _text_field_embedder.token_embedder_tokens.transformer_model.roberta.encoder.layer.2.attention.self.value.bias\n",
            "2022-09-21 13:00:20,929 - INFO - allennlp.common.util - _text_field_embedder.token_embedder_tokens.transformer_model.roberta.encoder.layer.2.attention.output.dense.weight\n",
            "2022-09-21 13:00:20,929 - INFO - allennlp.common.util - _text_field_embedder.token_embedder_tokens.transformer_model.roberta.encoder.layer.2.attention.output.dense.bias\n",
            "2022-09-21 13:00:20,929 - INFO - allennlp.common.util - _text_field_embedder.token_embedder_tokens.transformer_model.roberta.encoder.layer.2.attention.output.LayerNorm.weight\n",
            "2022-09-21 13:00:20,929 - INFO - allennlp.common.util - _text_field_embedder.token_embedder_tokens.transformer_model.roberta.encoder.layer.2.attention.output.LayerNorm.bias\n",
            "2022-09-21 13:00:20,929 - INFO - allennlp.common.util - _text_field_embedder.token_embedder_tokens.transformer_model.roberta.encoder.layer.2.intermediate.dense.weight\n",
            "2022-09-21 13:00:20,930 - INFO - allennlp.common.util - _text_field_embedder.token_embedder_tokens.transformer_model.roberta.encoder.layer.2.intermediate.dense.bias\n",
            "2022-09-21 13:00:20,930 - INFO - allennlp.common.util - _text_field_embedder.token_embedder_tokens.transformer_model.roberta.encoder.layer.2.output.dense.weight\n",
            "2022-09-21 13:00:20,930 - INFO - allennlp.common.util - _text_field_embedder.token_embedder_tokens.transformer_model.roberta.encoder.layer.2.output.dense.bias\n",
            "2022-09-21 13:00:20,930 - INFO - allennlp.common.util - _text_field_embedder.token_embedder_tokens.transformer_model.roberta.encoder.layer.2.output.LayerNorm.weight\n",
            "2022-09-21 13:00:20,930 - INFO - allennlp.common.util - _text_field_embedder.token_embedder_tokens.transformer_model.roberta.encoder.layer.2.output.LayerNorm.bias\n",
            "2022-09-21 13:00:20,930 - INFO - allennlp.common.util - _text_field_embedder.token_embedder_tokens.transformer_model.roberta.encoder.layer.3.attention.self.query.weight\n",
            "2022-09-21 13:00:20,930 - INFO - allennlp.common.util - _text_field_embedder.token_embedder_tokens.transformer_model.roberta.encoder.layer.3.attention.self.query.bias\n",
            "2022-09-21 13:00:20,930 - INFO - allennlp.common.util - _text_field_embedder.token_embedder_tokens.transformer_model.roberta.encoder.layer.3.attention.self.key.weight\n",
            "2022-09-21 13:00:20,930 - INFO - allennlp.common.util - _text_field_embedder.token_embedder_tokens.transformer_model.roberta.encoder.layer.3.attention.self.key.bias\n",
            "2022-09-21 13:00:20,930 - INFO - allennlp.common.util - _text_field_embedder.token_embedder_tokens.transformer_model.roberta.encoder.layer.3.attention.self.value.weight\n",
            "2022-09-21 13:00:20,930 - INFO - allennlp.common.util - _text_field_embedder.token_embedder_tokens.transformer_model.roberta.encoder.layer.3.attention.self.value.bias\n",
            "2022-09-21 13:00:20,930 - INFO - allennlp.common.util - _text_field_embedder.token_embedder_tokens.transformer_model.roberta.encoder.layer.3.attention.output.dense.weight\n",
            "2022-09-21 13:00:20,930 - INFO - allennlp.common.util - _text_field_embedder.token_embedder_tokens.transformer_model.roberta.encoder.layer.3.attention.output.dense.bias\n",
            "2022-09-21 13:00:20,930 - INFO - allennlp.common.util - _text_field_embedder.token_embedder_tokens.transformer_model.roberta.encoder.layer.3.attention.output.LayerNorm.weight\n",
            "2022-09-21 13:00:20,930 - INFO - allennlp.common.util - _text_field_embedder.token_embedder_tokens.transformer_model.roberta.encoder.layer.3.attention.output.LayerNorm.bias\n",
            "2022-09-21 13:00:20,930 - INFO - allennlp.common.util - _text_field_embedder.token_embedder_tokens.transformer_model.roberta.encoder.layer.3.intermediate.dense.weight\n",
            "2022-09-21 13:00:20,930 - INFO - allennlp.common.util - _text_field_embedder.token_embedder_tokens.transformer_model.roberta.encoder.layer.3.intermediate.dense.bias\n",
            "2022-09-21 13:00:20,930 - INFO - allennlp.common.util - _text_field_embedder.token_embedder_tokens.transformer_model.roberta.encoder.layer.3.output.dense.weight\n",
            "2022-09-21 13:00:20,930 - INFO - allennlp.common.util - _text_field_embedder.token_embedder_tokens.transformer_model.roberta.encoder.layer.3.output.dense.bias\n",
            "2022-09-21 13:00:20,930 - INFO - allennlp.common.util - _text_field_embedder.token_embedder_tokens.transformer_model.roberta.encoder.layer.3.output.LayerNorm.weight\n",
            "2022-09-21 13:00:20,930 - INFO - allennlp.common.util - _text_field_embedder.token_embedder_tokens.transformer_model.roberta.encoder.layer.3.output.LayerNorm.bias\n",
            "2022-09-21 13:00:20,930 - INFO - allennlp.common.util - _text_field_embedder.token_embedder_tokens.transformer_model.roberta.encoder.layer.4.attention.self.query.weight\n",
            "2022-09-21 13:00:20,930 - INFO - allennlp.common.util - _text_field_embedder.token_embedder_tokens.transformer_model.roberta.encoder.layer.4.attention.self.query.bias\n",
            "2022-09-21 13:00:20,931 - INFO - allennlp.common.util - _text_field_embedder.token_embedder_tokens.transformer_model.roberta.encoder.layer.4.attention.self.key.weight\n",
            "2022-09-21 13:00:20,931 - INFO - allennlp.common.util - _text_field_embedder.token_embedder_tokens.transformer_model.roberta.encoder.layer.4.attention.self.key.bias\n",
            "2022-09-21 13:00:20,931 - INFO - allennlp.common.util - _text_field_embedder.token_embedder_tokens.transformer_model.roberta.encoder.layer.4.attention.self.value.weight\n",
            "2022-09-21 13:00:20,931 - INFO - allennlp.common.util - _text_field_embedder.token_embedder_tokens.transformer_model.roberta.encoder.layer.4.attention.self.value.bias\n",
            "2022-09-21 13:00:20,931 - INFO - allennlp.common.util - _text_field_embedder.token_embedder_tokens.transformer_model.roberta.encoder.layer.4.attention.output.dense.weight\n",
            "2022-09-21 13:00:20,931 - INFO - allennlp.common.util - _text_field_embedder.token_embedder_tokens.transformer_model.roberta.encoder.layer.4.attention.output.dense.bias\n",
            "2022-09-21 13:00:20,931 - INFO - allennlp.common.util - _text_field_embedder.token_embedder_tokens.transformer_model.roberta.encoder.layer.4.attention.output.LayerNorm.weight\n",
            "2022-09-21 13:00:20,931 - INFO - allennlp.common.util - _text_field_embedder.token_embedder_tokens.transformer_model.roberta.encoder.layer.4.attention.output.LayerNorm.bias\n",
            "2022-09-21 13:00:20,931 - INFO - allennlp.common.util - _text_field_embedder.token_embedder_tokens.transformer_model.roberta.encoder.layer.4.intermediate.dense.weight\n",
            "2022-09-21 13:00:20,931 - INFO - allennlp.common.util - _text_field_embedder.token_embedder_tokens.transformer_model.roberta.encoder.layer.4.intermediate.dense.bias\n",
            "2022-09-21 13:00:20,931 - INFO - allennlp.common.util - _text_field_embedder.token_embedder_tokens.transformer_model.roberta.encoder.layer.4.output.dense.weight\n",
            "2022-09-21 13:00:20,931 - INFO - allennlp.common.util - _text_field_embedder.token_embedder_tokens.transformer_model.roberta.encoder.layer.4.output.dense.bias\n",
            "2022-09-21 13:00:20,931 - INFO - allennlp.common.util - _text_field_embedder.token_embedder_tokens.transformer_model.roberta.encoder.layer.4.output.LayerNorm.weight\n",
            "2022-09-21 13:00:20,931 - INFO - allennlp.common.util - _text_field_embedder.token_embedder_tokens.transformer_model.roberta.encoder.layer.4.output.LayerNorm.bias\n",
            "2022-09-21 13:00:20,931 - INFO - allennlp.common.util - _text_field_embedder.token_embedder_tokens.transformer_model.roberta.encoder.layer.5.attention.self.query.weight\n",
            "2022-09-21 13:00:20,931 - INFO - allennlp.common.util - _text_field_embedder.token_embedder_tokens.transformer_model.roberta.encoder.layer.5.attention.self.query.bias\n",
            "2022-09-21 13:00:20,931 - INFO - allennlp.common.util - _text_field_embedder.token_embedder_tokens.transformer_model.roberta.encoder.layer.5.attention.self.key.weight\n",
            "2022-09-21 13:00:20,931 - INFO - allennlp.common.util - _text_field_embedder.token_embedder_tokens.transformer_model.roberta.encoder.layer.5.attention.self.key.bias\n",
            "2022-09-21 13:00:20,931 - INFO - allennlp.common.util - _text_field_embedder.token_embedder_tokens.transformer_model.roberta.encoder.layer.5.attention.self.value.weight\n",
            "2022-09-21 13:00:20,931 - INFO - allennlp.common.util - _text_field_embedder.token_embedder_tokens.transformer_model.roberta.encoder.layer.5.attention.self.value.bias\n",
            "2022-09-21 13:00:20,931 - INFO - allennlp.common.util - _text_field_embedder.token_embedder_tokens.transformer_model.roberta.encoder.layer.5.attention.output.dense.weight\n",
            "2022-09-21 13:00:20,931 - INFO - allennlp.common.util - _text_field_embedder.token_embedder_tokens.transformer_model.roberta.encoder.layer.5.attention.output.dense.bias\n",
            "2022-09-21 13:00:20,931 - INFO - allennlp.common.util - _text_field_embedder.token_embedder_tokens.transformer_model.roberta.encoder.layer.5.attention.output.LayerNorm.weight\n",
            "2022-09-21 13:00:20,932 - INFO - allennlp.common.util - _text_field_embedder.token_embedder_tokens.transformer_model.roberta.encoder.layer.5.attention.output.LayerNorm.bias\n",
            "2022-09-21 13:00:20,932 - INFO - allennlp.common.util - _text_field_embedder.token_embedder_tokens.transformer_model.roberta.encoder.layer.5.intermediate.dense.weight\n",
            "2022-09-21 13:00:20,932 - INFO - allennlp.common.util - _text_field_embedder.token_embedder_tokens.transformer_model.roberta.encoder.layer.5.intermediate.dense.bias\n",
            "2022-09-21 13:00:20,932 - INFO - allennlp.common.util - _text_field_embedder.token_embedder_tokens.transformer_model.roberta.encoder.layer.5.output.dense.weight\n",
            "2022-09-21 13:00:20,932 - INFO - allennlp.common.util - _text_field_embedder.token_embedder_tokens.transformer_model.roberta.encoder.layer.5.output.dense.bias\n",
            "2022-09-21 13:00:20,932 - INFO - allennlp.common.util - _text_field_embedder.token_embedder_tokens.transformer_model.roberta.encoder.layer.5.output.LayerNorm.weight\n",
            "2022-09-21 13:00:20,932 - INFO - allennlp.common.util - _text_field_embedder.token_embedder_tokens.transformer_model.roberta.encoder.layer.5.output.LayerNorm.bias\n",
            "2022-09-21 13:00:20,932 - INFO - allennlp.common.util - _text_field_embedder.token_embedder_tokens.transformer_model.lm_head.bias\n",
            "2022-09-21 13:00:20,932 - INFO - allennlp.common.util - _text_field_embedder.token_embedder_tokens.transformer_model.lm_head.dense.weight\n",
            "2022-09-21 13:00:20,932 - INFO - allennlp.common.util - _text_field_embedder.token_embedder_tokens.transformer_model.lm_head.dense.bias\n",
            "2022-09-21 13:00:20,932 - INFO - allennlp.common.util - _text_field_embedder.token_embedder_tokens.transformer_model.lm_head.layer_norm.weight\n",
            "2022-09-21 13:00:20,932 - INFO - allennlp.common.util - _text_field_embedder.token_embedder_tokens.transformer_model.lm_head.layer_norm.bias\n",
            "2022-09-21 13:00:20,932 - INFO - allennlp.common.params - trainer.learning_rate_scheduler.type = slanted_triangular\n",
            "2022-09-21 13:00:20,932 - INFO - allennlp.common.params - trainer.learning_rate_scheduler.cut_frac = 0.1\n",
            "2022-09-21 13:00:20,932 - INFO - allennlp.common.params - trainer.learning_rate_scheduler.ratio = 32\n",
            "2022-09-21 13:00:20,933 - INFO - allennlp.common.params - trainer.learning_rate_scheduler.last_epoch = -1\n",
            "2022-09-21 13:00:20,933 - INFO - allennlp.common.params - trainer.learning_rate_scheduler.gradual_unfreezing = False\n",
            "2022-09-21 13:00:20,933 - INFO - allennlp.common.params - trainer.learning_rate_scheduler.discriminative_fine_tuning = False\n",
            "2022-09-21 13:00:20,933 - INFO - allennlp.common.params - trainer.learning_rate_scheduler.decay_factor = 0.38\n",
            "2022-09-21 13:00:20,933 - INFO - allennlp.common.params - trainer.checkpointer.type = default\n",
            "2022-09-21 13:00:20,933 - INFO - allennlp.common.params - trainer.checkpointer.save_completed_epochs = True\n",
            "2022-09-21 13:00:20,933 - INFO - allennlp.common.params - trainer.checkpointer.save_every_num_seconds = None\n",
            "2022-09-21 13:00:20,933 - INFO - allennlp.common.params - trainer.checkpointer.save_every_num_batches = None\n",
            "2022-09-21 13:00:20,933 - INFO - allennlp.common.params - trainer.checkpointer.keep_most_recent_by_count = 2\n",
            "2022-09-21 13:00:20,933 - INFO - allennlp.common.params - trainer.checkpointer.keep_most_recent_by_age = None\n",
            "2022-09-21 13:00:20,934 - CRITICAL - root - Uncaught exception\n",
            "Traceback (most recent call last):\n",
            "  File \"/home/niallt/venvs/39_declutr/bin/allennlp\", line 8, in <module>\n",
            "    sys.exit(run())\n",
            "  File \"/home/niallt/venvs/39_declutr/lib/python3.9/site-packages/allennlp/__main__.py\", line 39, in run\n",
            "    main(prog=\"allennlp\")\n",
            "  File \"/home/niallt/venvs/39_declutr/lib/python3.9/site-packages/allennlp/commands/__init__.py\", line 120, in main\n",
            "    args.func(args)\n",
            "  File \"/home/niallt/venvs/39_declutr/lib/python3.9/site-packages/allennlp/commands/train.py\", line 111, in train_model_from_args\n",
            "    train_model_from_file(\n",
            "  File \"/home/niallt/venvs/39_declutr/lib/python3.9/site-packages/allennlp/commands/train.py\", line 177, in train_model_from_file\n",
            "    return train_model(\n",
            "  File \"/home/niallt/venvs/39_declutr/lib/python3.9/site-packages/allennlp/commands/train.py\", line 258, in train_model\n",
            "    model = _train_worker(\n",
            "  File \"/home/niallt/venvs/39_declutr/lib/python3.9/site-packages/allennlp/commands/train.py\", line 494, in _train_worker\n",
            "    train_loop = TrainModel.from_params(\n",
            "  File \"/home/niallt/venvs/39_declutr/lib/python3.9/site-packages/allennlp/common/from_params.py\", line 604, in from_params\n",
            "    return retyped_subclass.from_params(\n",
            "  File \"/home/niallt/venvs/39_declutr/lib/python3.9/site-packages/allennlp/common/from_params.py\", line 638, in from_params\n",
            "    return constructor_to_call(**kwargs)  # type: ignore\n",
            "  File \"/home/niallt/venvs/39_declutr/lib/python3.9/site-packages/allennlp/commands/train.py\", line 786, in from_partial_objects\n",
            "    trainer_ = trainer.construct(\n",
            "  File \"/home/niallt/venvs/39_declutr/lib/python3.9/site-packages/allennlp/common/lazy.py\", line 82, in construct\n",
            "    return self.constructor(**contructor_kwargs)\n",
            "  File \"/home/niallt/venvs/39_declutr/lib/python3.9/site-packages/allennlp/common/lazy.py\", line 66, in constructor_to_use\n",
            "    return self._constructor.from_params(  # type: ignore[union-attr]\n",
            "  File \"/home/niallt/venvs/39_declutr/lib/python3.9/site-packages/allennlp/common/from_params.py\", line 604, in from_params\n",
            "    return retyped_subclass.from_params(\n",
            "  File \"/home/niallt/venvs/39_declutr/lib/python3.9/site-packages/allennlp/common/from_params.py\", line 638, in from_params\n",
            "    return constructor_to_call(**kwargs)  # type: ignore\n",
            "  File \"/home/niallt/venvs/39_declutr/lib/python3.9/site-packages/allennlp/training/gradient_descent_trainer.py\", line 1198, in from_partial_objects\n",
            "    else checkpointer.construct(serialization_dir=serialization_dir)\n",
            "  File \"/home/niallt/venvs/39_declutr/lib/python3.9/site-packages/allennlp/common/lazy.py\", line 82, in construct\n",
            "    return self.constructor(**contructor_kwargs)\n",
            "  File \"/home/niallt/venvs/39_declutr/lib/python3.9/site-packages/allennlp/common/lazy.py\", line 66, in constructor_to_use\n",
            "    return self._constructor.from_params(  # type: ignore[union-attr]\n",
            "  File \"/home/niallt/venvs/39_declutr/lib/python3.9/site-packages/allennlp/common/from_params.py\", line 604, in from_params\n",
            "    return retyped_subclass.from_params(\n",
            "  File \"/home/niallt/venvs/39_declutr/lib/python3.9/site-packages/allennlp/common/from_params.py\", line 636, in from_params\n",
            "    kwargs = create_kwargs(constructor_to_inspect, cls, params, **extras)\n",
            "  File \"/home/niallt/venvs/39_declutr/lib/python3.9/site-packages/allennlp/common/from_params.py\", line 222, in create_kwargs\n",
            "    params.assert_empty(cls.__name__)\n",
            "  File \"/home/niallt/venvs/39_declutr/lib/python3.9/site-packages/allennlp/common/params.py\", line 394, in assert_empty\n",
            "    raise ConfigurationError(\n",
            "allennlp.common.checks.ConfigurationError: Extra parameters passed to Checkpointer: {'num_serialized_models_to_keep': -1}\n"
          ]
        }
      ],
      "source": [
        "!allennlp train \"../training_config/declutr_small_v2.jsonnet\" \\\n",
        "    --serialization-dir \"output\" \\\n",
        "    --overrides \"$overrides\" \\\n",
        "    --include-package \"declutr\" \\\n",
        "    -f"
      ]
    },
    {
      "cell_type": "markdown",
      "metadata": {
        "id": "Qsbr6OMv16GQ"
      },
      "source": [
        "### 🤗 Exporting a trained model to HuggingFace Transformers\n",
        "\n",
        "We have provided a simple script to export a trained model so that it can be loaded with [Hugging Face Transformers](https://github.com/huggingface/transformers)"
      ]
    },
    {
      "cell_type": "code",
      "execution_count": null,
      "metadata": {
        "id": "KqmWVD0y16GQ"
      },
      "outputs": [],
      "source": [
        "!wget -nc https://github.com/JohnGiorgi/DeCLUTR/blob/master/scripts/save_pretrained_hf.py\n",
        "!python save_pretrained_hf.py --archive-file \"output\" --save-directory \"output_transformers\""
      ]
    },
    {
      "cell_type": "markdown",
      "metadata": {
        "id": "N0-NTFaH16GQ"
      },
      "source": [
        "The model, saved to `--save-directory`, can then be loaded using the Hugging Face Transformers library\n",
        "\n",
        "> See the [embedding notebook](https://colab.research.google.com/github/JohnGiorgi/DeCLUTR/blob/master/notebooks/embedding.ipynb) for more details on using trained models."
      ]
    },
    {
      "cell_type": "code",
      "execution_count": null,
      "metadata": {
        "id": "pAl1zIya16GQ"
      },
      "outputs": [],
      "source": [
        "from transformers import AutoTokenizer, AutoModelForMaskedLM\n",
        "  \n",
        "tokenizer = AutoTokenizer.from_pretrained(\"output_transformers\")\n",
        "model = AutoModel.from_pretrained(\"output_transformers\")"
      ]
    },
    {
      "cell_type": "markdown",
      "metadata": {
        "id": "mzQ0G4rp16GQ"
      },
      "source": [
        "> If you would like to upload your model to the Hugging Face model repository, follow the instructions [here](https://huggingface.co/transformers/model_sharing.html)."
      ]
    },
    {
      "cell_type": "markdown",
      "metadata": {
        "id": "eD5dZo18EE-S"
      },
      "source": [
        "## ♻️ Conclusion\n",
        "\n",
        "That's it! In this notebook, we covered how to collect data for training the model, and specifically how _long_ that text needs to be. We then briefly covered configuring and running a training session. Please see [our paper](https://arxiv.org/abs/2006.03659) and [repo](https://github.com/JohnGiorgi/DeCLUTR) for more details, and don't hesitate to open an issue if you have any trouble!"
      ]
    }
  ],
  "metadata": {
    "accelerator": "GPU",
    "colab": {
      "collapsed_sections": [],
      "name": "training.ipynb",
      "private_outputs": true,
      "provenance": []
    },
    "kernelspec": {
      "display_name": "Python 3.9.13 ('39_declutr': venv)",
      "language": "python",
      "name": "python3"
    },
    "language_info": {
      "codemirror_mode": {
        "name": "ipython",
        "version": 3
      },
      "file_extension": ".py",
      "mimetype": "text/x-python",
      "name": "python",
      "nbconvert_exporter": "python",
      "pygments_lexer": "ipython3",
      "version": "3.9.13"
    },
    "vscode": {
      "interpreter": {
        "hash": "29abfe4b2a2a13e76bcb98af1501c4f384e087a48356ceb41341cb18ef9ca38a"
      }
    }
  },
  "nbformat": 4,
  "nbformat_minor": 0
}
